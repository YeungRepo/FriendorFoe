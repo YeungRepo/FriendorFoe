{
 "cells": [
  {
   "cell_type": "code",
   "execution_count": 59,
   "metadata": {},
   "outputs": [],
   "source": [
    "import os\n",
    "import sys\n",
    "import PIL.Image\n",
    "import exifread\n",
    "import numpy as np\n",
    "import pickle"
   ]
  },
  {
   "cell_type": "code",
   "execution_count": 63,
   "metadata": {},
   "outputs": [
    {
     "name": "stdout",
     "output_type": "stream",
     "text": [
      "Error with File: /Users/yeun666/Documents/FriendOrFoeData/DiBASE/IngestData/DiBASE/Micrococcus.spp/Micrococcus.spp_0023.tif\n",
      "Error with File: /Users/yeun666/Documents/FriendOrFoeData/DiBASE/IngestData/DiBASE/Micrococcus.spp/Micrococcus.spp_0021.tif\n",
      "Error with File: /Users/yeun666/Documents/FriendOrFoeData/DiBASE/IngestData/DiBASE/Listeria.monocytogenes/Listeria.monocytogenes_0023.tif\n"
     ]
    }
   ],
   "source": [
    "##  - - - - Set up the root directory - - - - \n",
    "\n",
    "DiBASE_Root_Dir = '/Users/yeun666/Documents/FriendOrFoeData/DiBASE/IngestData/DiBASE/'; # a cloud version of this file tree is stored on UCSB Box\n",
    "\n",
    "## - - - -  Set up the root directory - - - - \n",
    "\n",
    "\n",
    "All_Folder_Names = os.listdir(DiBASE_Root_Dir);\n",
    "All_Folder_Names.remove('.DS_Store')\n",
    "All_Files_Summary = [];\n",
    "for Folder_Name in All_Folder_Names:\n",
    "    All_Files_Within_Folder =  os.listdir(DiBASE_Root_Dir+Folder_Name);\n",
    "    for This_File in All_Files_Within_Folder:\n",
    "        This_File_Path = DiBASE_Root_Dir+Folder_Name + '/'+ This_File;\n",
    "        try:\n",
    "            This_Img = PIL.Image.open(This_File_Path);\n",
    "            This_Binary_File = open(This_File_Path, 'rb');\n",
    "        \n",
    "        # Return Exif tags\n",
    "            These_Tags = exifread.process_file(This_Binary_File)\n",
    "\n",
    "            for tag in These_Tags.keys():\n",
    "                if tag not in ('JPEGThumbnail', 'TIFFThumbnail', 'Filename', 'EXIF MakerNote'):\n",
    "\n",
    "                    #print(\"Key: %s, value %s\" % (tag, These_Tags[tag]));\n",
    "                    CompressionMode = These_Tags['Image Compression'];\n",
    "                    ExposureTime = (These_Tags['EXIF ExposureTime']);\n",
    "                    ExposureMode = repr(These_Tags['EXIF ExposureMode']);\n",
    "                    ImageWidth = These_Tags['Image ImageWidth'];\n",
    "                    ImageHeight = These_Tags['Image ImageLength'];\n",
    "                    ImageAcquisitionTime = These_Tags['Image DateTime'];\n",
    "                    ImageFileType = This_File_Path.split('.')[-1];\n",
    "                    ImageColorMode = These_Tags['EXIF ColorSpace'];\n",
    "                    \n",
    "            File_Summary = dict();\n",
    "            File_Summary['FilePath']=This_File_Path;\n",
    "            #File_Summary['File_Raw']=np.asarray(This_Img);\n",
    "            File_Summary['CompressionMode']=CompressionMode;\n",
    "            File_Summary['ExposureTime']=ExposureTime;\n",
    "            File_Summary['ImageWidth']=ImageWidth;\n",
    "            File_Summary['ImageHeight']=ImageHeight;\n",
    "            File_Summary['ImageAcquisitionTime']=ImageAcquisitionTime;\n",
    "            File_Summary['ImageFileType']=ImageFileType;\n",
    "            File_Summary['ImageColorMode']=ImageColorMode;\n",
    "            All_Files_Summary.append(File_Summary);\n",
    "            This_Binary_File.close();\n",
    "            This_Img.close();\n",
    "        except:\n",
    "            print(\"Error with File: \" + This_File_Path)\n",
    "            "
   ]
  },
  {
   "cell_type": "code",
   "execution_count": 64,
   "metadata": {},
   "outputs": [],
   "source": [
    "Output_File_Obj = open('/Users/yeun666/Documents/FriendorFoeData/DiBASE/DiBaseRawDataFrame.pickle','wb');\n",
    "pickle.dump(All_Files_Summary,Output_File_Obj)"
   ]
  },
  {
   "cell_type": "code",
   "execution_count": 65,
   "metadata": {},
   "outputs": [],
   "source": [
    "Output_File_Obj.close()"
   ]
  },
  {
   "cell_type": "code",
   "execution_count": null,
   "metadata": {},
   "outputs": [],
   "source": []
  }
 ],
 "metadata": {
  "kernelspec": {
   "display_name": "Python 2",
   "language": "python",
   "name": "python2"
  },
  "language_info": {
   "codemirror_mode": {
    "name": "ipython",
    "version": 2
   },
   "file_extension": ".py",
   "mimetype": "text/x-python",
   "name": "python",
   "nbconvert_exporter": "python",
   "pygments_lexer": "ipython2",
   "version": "2.7.10"
  }
 },
 "nbformat": 4,
 "nbformat_minor": 1
}

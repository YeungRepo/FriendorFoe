{
 "cells": [
  {
   "cell_type": "code",
   "execution_count": 1,
   "metadata": {},
   "outputs": [],
   "source": [
    "import random\n",
    "import os\n",
    "from Bio.Seq import Seq\n",
    "from Bio import SeqIO\n",
    "import numpy as np\n",
    "import tensorflow as tf\n",
    "import math\n",
    "import pickle\n",
    "from tensorflow import keras"
   ]
  },
  {
   "cell_type": "code",
   "execution_count": 7,
   "metadata": {},
   "outputs": [],
   "source": [
    "path_file_list=[]\n",
    "for root, dirs, files in os.walk('Pathogenic E. Coli Sequences/'):\n",
    "    for file in files:\n",
    "        if file.endswith('.fasta'):\n",
    "            path_file_list.append(('Pathogenic E. Coli Sequences/'+str(file)))"
   ]
  },
  {
   "cell_type": "code",
   "execution_count": 8,
   "metadata": {},
   "outputs": [
    {
     "data": {
      "text/plain": [
       "['Pathogenic E. Coli Sequences/PAI_III_536.fasta',\n",
       " 'Pathogenic E. Coli Sequences/PAI_II_536.fasta',\n",
       " 'Pathogenic E. Coli Sequences/PAI_I_536.fasta',\n",
       " 'Pathogenic E. Coli Sequences/PAI_V_536.fasta']"
      ]
     },
     "execution_count": 8,
     "metadata": {},
     "output_type": "execute_result"
    }
   ],
   "source": [
    "path_file_list"
   ]
  },
  {
   "cell_type": "code",
   "execution_count": 9,
   "metadata": {},
   "outputs": [],
   "source": [
    "path_seq_list=[];\n",
    "for filename in path_file_list:\n",
    "    for seq_record in SeqIO.parse(filename,'fasta'):\n",
    "        path_seq_list.append(seq_record.seq)"
   ]
  },
  {
   "cell_type": "code",
   "execution_count": 10,
   "metadata": {},
   "outputs": [
    {
     "data": {
      "text/plain": [
       "[Seq('AGGGCCGATATAGCTCAGTTGGTAGAGCAGCGCATTCGTAATGCGAAGGTCGTA...CCT'),\n",
       " Seq('GCAAGCTGGCGCTTGCATGGTGGCGTGCGACAGGTATAATCCACAACGTTTTCC...TCG'),\n",
       " Seq('GGAAGATCGTCGTCTCCGGTGAGGCGGCTGGACTTCAAATCCAGTTGGGGCCGC...ATC'),\n",
       " Seq('GCCCGGATAGCTCAGTCGGTAGAGCAGGGGATTGAAAATCCCCGTGTCCTTGGT...GGA')]"
      ]
     },
     "execution_count": 10,
     "metadata": {},
     "output_type": "execute_result"
    }
   ],
   "source": [
    "# These are the sequences for 4 pathogenicity islands from E. coli 536\n",
    "path_seq_list"
   ]
  },
  {
   "cell_type": "code",
   "execution_count": 12,
   "metadata": {},
   "outputs": [],
   "source": [
    "nonpath_ecoli_fasta_file='EcoliK12_MG1655.fasta'"
   ]
  },
  {
   "cell_type": "code",
   "execution_count": 13,
   "metadata": {},
   "outputs": [],
   "source": [
    "nonpath_seq_list=[];\n",
    "for seq_record in SeqIO.parse(nonpath_ecoli_fasta_file,'fasta'):\n",
    "    nonpath_seq_list.append(seq_record.seq)"
   ]
  },
  {
   "cell_type": "code",
   "execution_count": 14,
   "metadata": {},
   "outputs": [
    {
     "data": {
      "text/plain": [
       "[Seq('AGCTTTTCATTCTGACTGCAACGGGCAATATGTCTCTGTGTGGATTAAAAAAAG...TTC')]"
      ]
     },
     "execution_count": 14,
     "metadata": {},
     "output_type": "execute_result"
    }
   ],
   "source": [
    "# This is the sequence for E. coli K-12, MG1655\n",
    "nonpath_seq_list"
   ]
  },
  {
   "cell_type": "markdown",
   "metadata": {},
   "source": [
    "## Change seqs. to numbers"
   ]
  },
  {
   "cell_type": "code",
   "execution_count": 15,
   "metadata": {},
   "outputs": [],
   "source": [
    "nonpath_vector_list=[];\n",
    "for item in nonpath_seq_list:\n",
    "    vector_rep=[]\n",
    "    for letter in item:\n",
    "        if letter=='A':\n",
    "            number=0.25\n",
    "        elif letter=='T':\n",
    "            number=0.5\n",
    "        elif letter=='C':\n",
    "            number=0.75\n",
    "        elif letter=='G':\n",
    "            number=1\n",
    "        vector_rep.append(number)\n",
    "    nonpath_vector_list.append(vector_rep)"
   ]
  },
  {
   "cell_type": "code",
   "execution_count": 16,
   "metadata": {},
   "outputs": [],
   "source": [
    "path_vector_list=[];\n",
    "for item in path_seq_list:\n",
    "    vector_rep=[]\n",
    "    for letter in item:\n",
    "        if letter=='A':\n",
    "            number=0.25\n",
    "        elif letter=='T':\n",
    "            number=0.5\n",
    "        elif letter=='C':\n",
    "            number=0.75\n",
    "        elif letter=='G':\n",
    "            number=1\n",
    "        vector_rep.append(number)\n",
    "    path_vector_list.append(vector_rep)"
   ]
  },
  {
   "cell_type": "markdown",
   "metadata": {},
   "source": [
    "## Make 1000-bp segments"
   ]
  },
  {
   "cell_type": "code",
   "execution_count": 26,
   "metadata": {},
   "outputs": [],
   "source": [
    "cutoff=1000;\n",
    "nonpath_list=[];\n",
    "\n",
    "for item in nonpath_vector_list:\n",
    "    i=0;\n",
    "    while i+cutoff<=len(item):\n",
    "        nonpath_list.append(item[i:i+cutoff]);\n",
    "        i+=1;"
   ]
  },
  {
   "cell_type": "code",
   "execution_count": 27,
   "metadata": {},
   "outputs": [
    {
     "data": {
      "text/plain": [
       "4640653"
      ]
     },
     "execution_count": 27,
     "metadata": {},
     "output_type": "execute_result"
    }
   ],
   "source": [
    "len(nonpath_list)"
   ]
  },
  {
   "cell_type": "code",
   "execution_count": 28,
   "metadata": {},
   "outputs": [],
   "source": [
    "cutoff=1000;\n",
    "path_list=[];\n",
    "\n",
    "for item in path_vector_list:\n",
    "    i=0;\n",
    "    while i+cutoff<=len(item):\n",
    "        path_list.append(item[i:i+cutoff]);\n",
    "        i+=1;"
   ]
  },
  {
   "cell_type": "code",
   "execution_count": 37,
   "metadata": {},
   "outputs": [],
   "source": [
    "path_array=np.asarray(path_list)"
   ]
  },
  {
   "cell_type": "code",
   "execution_count": 39,
   "metadata": {},
   "outputs": [
    {
     "data": {
      "text/plain": [
       "356863"
      ]
     },
     "execution_count": 39,
     "metadata": {},
     "output_type": "execute_result"
    }
   ],
   "source": [
    "len(path_list)"
   ]
  },
  {
   "cell_type": "code",
   "execution_count": 40,
   "metadata": {},
   "outputs": [],
   "source": [
    "short_nonpath_list=random.sample(nonpath_list,len(path_list))"
   ]
  },
  {
   "cell_type": "code",
   "execution_count": 41,
   "metadata": {},
   "outputs": [],
   "source": [
    "nonpath_array=np.asarray(short_nonpath_list)"
   ]
  },
  {
   "cell_type": "code",
   "execution_count": 42,
   "metadata": {},
   "outputs": [
    {
     "data": {
      "text/plain": [
       "array([[0.25, 1.  , 1.  , ..., 0.75, 0.25, 1.  ],\n",
       "       [1.  , 1.  , 1.  , ..., 0.25, 1.  , 0.25],\n",
       "       [1.  , 1.  , 0.75, ..., 1.  , 0.25, 0.25],\n",
       "       ...,\n",
       "       [0.5 , 0.75, 1.  , ..., 1.  , 0.5 , 1.  ],\n",
       "       [0.75, 1.  , 1.  , ..., 0.5 , 1.  , 1.  ],\n",
       "       [1.  , 1.  , 0.75, ..., 1.  , 1.  , 0.25]])"
      ]
     },
     "execution_count": 42,
     "metadata": {},
     "output_type": "execute_result"
    }
   ],
   "source": [
    "path_array"
   ]
  },
  {
   "cell_type": "code",
   "execution_count": 43,
   "metadata": {},
   "outputs": [],
   "source": [
    "path_labelled = np.hstack((path_array, np.atleast_2d(np.ones(len(path_array))).T))"
   ]
  },
  {
   "cell_type": "code",
   "execution_count": 51,
   "metadata": {},
   "outputs": [
    {
     "data": {
      "text/plain": [
       "array([[0.25, 1.  , 1.  , ..., 0.25, 1.  , 1.  ],\n",
       "       [1.  , 1.  , 1.  , ..., 1.  , 0.25, 1.  ],\n",
       "       [1.  , 1.  , 0.75, ..., 0.25, 0.25, 1.  ],\n",
       "       ...,\n",
       "       [0.5 , 0.75, 1.  , ..., 0.5 , 1.  , 1.  ],\n",
       "       [0.75, 1.  , 1.  , ..., 1.  , 1.  , 1.  ],\n",
       "       [1.  , 1.  , 0.75, ..., 1.  , 0.25, 1.  ]])"
      ]
     },
     "execution_count": 51,
     "metadata": {},
     "output_type": "execute_result"
    }
   ],
   "source": [
    "path_labelled"
   ]
  },
  {
   "cell_type": "code",
   "execution_count": 53,
   "metadata": {},
   "outputs": [
    {
     "data": {
      "text/plain": [
       "(356863, 1001)"
      ]
     },
     "execution_count": 53,
     "metadata": {},
     "output_type": "execute_result"
    }
   ],
   "source": [
    "np.shape(path_labelled)"
   ]
  },
  {
   "cell_type": "code",
   "execution_count": 50,
   "metadata": {},
   "outputs": [
    {
     "data": {
      "text/plain": [
       "numpy.float64"
      ]
     },
     "execution_count": 50,
     "metadata": {},
     "output_type": "execute_result"
    }
   ],
   "source": [
    "type(path_labelled[0][0])"
   ]
  },
  {
   "cell_type": "code",
   "execution_count": 54,
   "metadata": {},
   "outputs": [
    {
     "data": {
      "text/plain": [
       "array([[0.25, 0.25, 0.5 , ..., 1.  , 1.  , 0.25],\n",
       "       [0.5 , 0.25, 1.  , ..., 0.5 , 0.25, 0.5 ],\n",
       "       [0.25, 0.75, 0.25, ..., 0.5 , 0.25, 0.25],\n",
       "       ...,\n",
       "       [1.  , 0.25, 0.5 , ..., 0.25, 0.75, 0.75],\n",
       "       [0.5 , 0.75, 0.5 , ..., 0.25, 0.25, 0.75],\n",
       "       [0.75, 0.75, 0.5 , ..., 1.  , 0.75, 0.5 ]])"
      ]
     },
     "execution_count": 54,
     "metadata": {},
     "output_type": "execute_result"
    }
   ],
   "source": [
    "nonpath_array"
   ]
  },
  {
   "cell_type": "code",
   "execution_count": 52,
   "metadata": {},
   "outputs": [
    {
     "ename": "MemoryError",
     "evalue": "Unable to allocate 2.66 GiB for an array with shape (356863, 1001) and data type float64",
     "output_type": "error",
     "traceback": [
      "\u001b[1;31m---------------------------------------------------------------------------\u001b[0m",
      "\u001b[1;31mMemoryError\u001b[0m                               Traceback (most recent call last)",
      "\u001b[1;32m<ipython-input-52-060c79cb7669>\u001b[0m in \u001b[0;36m<module>\u001b[1;34m\u001b[0m\n\u001b[1;32m----> 1\u001b[1;33m \u001b[0mnon_path_labelled\u001b[0m \u001b[1;33m=\u001b[0m \u001b[0mnp\u001b[0m\u001b[1;33m.\u001b[0m\u001b[0mhstack\u001b[0m\u001b[1;33m(\u001b[0m\u001b[1;33m(\u001b[0m\u001b[0mnonpath_array\u001b[0m\u001b[1;33m,\u001b[0m \u001b[0mnp\u001b[0m\u001b[1;33m.\u001b[0m\u001b[0matleast_2d\u001b[0m\u001b[1;33m(\u001b[0m\u001b[0mnp\u001b[0m\u001b[1;33m.\u001b[0m\u001b[0mzeros\u001b[0m\u001b[1;33m(\u001b[0m\u001b[0mlen\u001b[0m\u001b[1;33m(\u001b[0m\u001b[0mnonpath_array\u001b[0m\u001b[1;33m)\u001b[0m\u001b[1;33m,\u001b[0m\u001b[0mdtype\u001b[0m\u001b[1;33m=\u001b[0m\u001b[1;34m'uint8'\u001b[0m\u001b[1;33m)\u001b[0m\u001b[1;33m)\u001b[0m\u001b[1;33m.\u001b[0m\u001b[0mT\u001b[0m\u001b[1;33m)\u001b[0m\u001b[1;33m)\u001b[0m\u001b[1;33m\u001b[0m\u001b[1;33m\u001b[0m\u001b[0m\n\u001b[0m",
      "\u001b[1;32m<__array_function__ internals>\u001b[0m in \u001b[0;36mhstack\u001b[1;34m(*args, **kwargs)\u001b[0m\n",
      "\u001b[1;32m~\\anaconda3\\lib\\site-packages\\numpy\\core\\shape_base.py\u001b[0m in \u001b[0;36mhstack\u001b[1;34m(tup)\u001b[0m\n\u001b[0;32m    344\u001b[0m         \u001b[1;32mreturn\u001b[0m \u001b[0m_nx\u001b[0m\u001b[1;33m.\u001b[0m\u001b[0mconcatenate\u001b[0m\u001b[1;33m(\u001b[0m\u001b[0marrs\u001b[0m\u001b[1;33m,\u001b[0m \u001b[1;36m0\u001b[0m\u001b[1;33m)\u001b[0m\u001b[1;33m\u001b[0m\u001b[1;33m\u001b[0m\u001b[0m\n\u001b[0;32m    345\u001b[0m     \u001b[1;32melse\u001b[0m\u001b[1;33m:\u001b[0m\u001b[1;33m\u001b[0m\u001b[1;33m\u001b[0m\u001b[0m\n\u001b[1;32m--> 346\u001b[1;33m         \u001b[1;32mreturn\u001b[0m \u001b[0m_nx\u001b[0m\u001b[1;33m.\u001b[0m\u001b[0mconcatenate\u001b[0m\u001b[1;33m(\u001b[0m\u001b[0marrs\u001b[0m\u001b[1;33m,\u001b[0m \u001b[1;36m1\u001b[0m\u001b[1;33m)\u001b[0m\u001b[1;33m\u001b[0m\u001b[1;33m\u001b[0m\u001b[0m\n\u001b[0m\u001b[0;32m    347\u001b[0m \u001b[1;33m\u001b[0m\u001b[0m\n\u001b[0;32m    348\u001b[0m \u001b[1;33m\u001b[0m\u001b[0m\n",
      "\u001b[1;32m<__array_function__ internals>\u001b[0m in \u001b[0;36mconcatenate\u001b[1;34m(*args, **kwargs)\u001b[0m\n",
      "\u001b[1;31mMemoryError\u001b[0m: Unable to allocate 2.66 GiB for an array with shape (356863, 1001) and data type float64"
     ]
    }
   ],
   "source": [
    "non_path_labelled = np.hstack((nonpath_array, np.atleast_2d(np.zeros(len(nonpath_array),dtype='uint8')).T))"
   ]
  },
  {
   "cell_type": "code",
   "execution_count": null,
   "metadata": {},
   "outputs": [],
   "source": [
    "data=np.concatenate((non_path_labelled,path_labelled),axis=0)"
   ]
  },
  {
   "cell_type": "code",
   "execution_count": null,
   "metadata": {},
   "outputs": [],
   "source": [
    "y_raw=data[:,-1]\n",
    "X_raw=np.delete(data,-1,axis=1)"
   ]
  },
  {
   "cell_type": "code",
   "execution_count": 55,
   "metadata": {},
   "outputs": [],
   "source": [
    "np.savez('Thousand_bp_data',nonpath_array,path_labelled,'Nonpath','Path')"
   ]
  },
  {
   "cell_type": "code",
   "execution_count": null,
   "metadata": {},
   "outputs": [],
   "source": []
  }
 ],
 "metadata": {
  "kernelspec": {
   "display_name": "Python 3",
   "language": "python",
   "name": "python3"
  },
  "language_info": {
   "codemirror_mode": {
    "name": "ipython",
    "version": 3
   },
   "file_extension": ".py",
   "mimetype": "text/x-python",
   "name": "python",
   "nbconvert_exporter": "python",
   "pygments_lexer": "ipython3",
   "version": "3.8.5"
  }
 },
 "nbformat": 4,
 "nbformat_minor": 4
}

{
 "cells": [
  {
   "cell_type": "code",
   "execution_count": 1,
   "metadata": {},
   "outputs": [],
   "source": [
    "import math\n",
    "from Bio.Seq import Seq\n",
    "from Bio import SeqIO\n",
    "import numpy as np"
   ]
  },
  {
   "cell_type": "code",
   "execution_count": 2,
   "metadata": {},
   "outputs": [],
   "source": [
    "homology_seq='AAGGATAAATGGCGTTCTCTGTATTTATTCGCAATTATCTGTAGGACAAATATGGAGAGCTTGATGAGTCAGAGCTAAAACAGCAATTGATTAATAAACATGTTGATTTATTCAAGAAAATGGATGTATTTTAAATGTTGATTCTTAATATAACCTAATCAATAGATTATCAAGTGAGAGCTACACATTATTGGAGGGGCAGGGGAAAACACCATTTTGGGAACAATGCATCAGGTACTCTTACCACTGAAGCAAGATCATCCGGCACCAGGTGGTGGTGCAGTGCTTTGGAAATGGTCCCCTCGGGGGAGTTGTCATTATTTTCTATGCTATTTGCTTATTATATTCATCAGGTGAATTTAATAAATTCCTAATTTGAAATATCCACTATTAAGCTAGTGTTTAACGACGTTAAGATGGCAATGTGCAGATCATGTTATCAGGGTGGGGCGGTAGCGTATATTCCTTATACAAACCATCATTCATTTCAATGATTGTTATTGAATTATTTATTGTTGTGAATAAAAAGACATTATGAATATTGGTTTGACTTTGCATATCAGGTTTTTTATTACTCGCTGTAATGTACGAGCCTGTCGTGAATAACGTCGAGAACCCATCCGTTGCGTTTGTGATTATTTTGTTGACTAAACAGACACCCGTTTCTCTGAAGTAAAATCCCAGACTAAATCATCACATAACCATGACATTTTTCTGATATTCCCCGGTAACGCCAGATGTCGACTCGCTTAACCACCCTCAGCCATACCAGTGAAGGCCACCGCGTGTCGGTCCACTACGGCTATGACGATAAAGGCCGCCTGACCGGCGAACGCCAGACGGTGGAGAACCCGGAGACGGGGGAACTGCTGTGGCACCATGAGACCGGACATGCGTACAACGAACAGGGGCTGGCAAACCGCGTCACGCCGGACAGTCTGCCGCCGGTGGAGTGGCTGACCTACGGCAGCGGCTATCTTGCGGGCATGAAGCTGGGCGGGACGCCGCTGCTGGAGTTCACGCGCGACCGCCTGCACCGTGAGACGGTGCGCAGCTTCGGCAGCATGGCAGGCAGTAATGCCGCATATAAACTGACCAGCACATACACCCCCGCAGGCCAGTTACAGAGCCAGCACCTGAACAGCCTGGTGTATGACCGTGACTACGGGTGGAATGACAACGGCGACCTGGTGCGCATCAGCGGCCCGCGACAGACGCGGGAATACGGCTACAGCGCCACGGGCAGGCTGGAGAGTGTGCGCACCCTCGCACCAGACCTGGACATCCGCATCCCGTATGCCACGGACCCGGCGGGCAACCGGCTGCCGGACCCGGAGCTGCACCCGGACAGTACACTCACAGTGTGGCCGGATAACCGCATCGCGGAGGATGCGCACTATGTCTACCGCCACGATGAATACGGCAGGCTGACGGAGAAGACGGACCGCATCCCGGCGGGTGTGATACGGACGGACGACGAGCGGACCCACCACTACCACTACGACAGCCAGCACCGCCTGGTGTTCTACACGCGGATACAGCATGGCGAGCCACTGGTCGAGAGCCGCTACCTCTACGACCCGCTGGGACGGCGAATGGCAAAACGGGTCTGGCGGCGGGAGCGTGACCTGACGGGGTGGATGTCGCTGTCGCGTAAACCGGAGGTGACGTGGTATGGCTGGGACGGAGACAGGCTGACGACGGTGCAGACTGACACCACACGTATCCAGACGGTATACGAGCCGGGAAGCTTCACGCCGCTCATCCGGGTCGAGACAGAGAACGGCGAGCGGGAAAAAGCGCAGCGGCGCAGCCTGGCAGAGACGCTCCAGCAGGAAGGGAGTGAGAACGGCCACGGCGTGGTGTTCCCGGCTGAACTGGTGCGGCTGCTGGACAGGCTGGAGGAAGAAATCCGGGCAGACCGCGTGAGCAGTGAAAGCCGGGCGTGGCTTGCGCAGTGCGGGCTGACGGTGGAGCAACTGGCCAGACAGGTGGAGCCGGAATACACACCGGCGCGAAAAGTTCATTTTTACCACTGCGACCACCGGGGCCTGCCGCTGGCGCTCATCAGCGAAGACGGCAATACGGCGTGGCGCGGGGAGTATGATGAATGGGGCAACCAGCTTAATGAGGAGAACCCGCATCACCTGCACCAGCCGTACCGTCTGCCAGGGCAGCAGCATGATGAGGAGTCGGGGCTGTACTATAACCGTCACCGGCACTACGATCCGTTGCAGGGGCGGTATATCACCCCGGACCCGATTGGGTTGAGAGGTGGATGGAATATGTATCAGTATCCGTTGAATCCCATACAAGTGATAGACCCAATGGGGTTAGATGCGATTGAGAATATGACATCAGGTGGACTAATTTATGCCGTATCTGGTGTACCTGGATTGATTGCTGCAAACAGCATTACTAACAGTGCTTACCAGTTCGGTTATGATATGGATGCTATTGTTGGCGGAGCTCATAATGGGGCCGCCGATGCAATGAGACATTGTTACTTGATGTGTCGAATGACTAAGACATTTGGATCAACAATAGCTGACGTGATAGGTAAAAATCATGAGGCGGCAGGGGATAGACAAGGTCAGCCAGCTAAAGAAAGAATCATGGATCTTAAAAATAACACTGTCGGTATTGCTTGTGGCGATTTTTCTGCCAAATGTAGCGATGCATGTATTGAAAAATATAACACTGGGCAACTCTTCGGGTTAGATGGTATAAAAGCAGATAATCCAATAAAAGCAAAGCAAGGGAGTTCAGATGCTTCAAATTATTAGAGGCAAACTTGTCATTTTTTTAATTACCCTTTGTTTATTTGTTGTTTACCTTGGGTTTGATAACAATTCAAATTCTGACATCGTATTTTATGGACATAAAACACCAAAGAGCGTTGAGATATATCTTTCTGAAAAAAATATTATTTATAAAATAATTAATGACCAAAAAATTAGTAGAGGGAATGGTCATTTTATAAGTATAATGGTTAATAATTACAGGACGCACTGTGGAGTGGTTGATATAAATCTTAATTTTTTCAATGATATTCTTTATAGCGTGCGATTAAAAAACATTAGTAAACTGGAGAATATGGAGTTCTGCGCTACAAAACAACGGGTGTATTTTAGTGATAAAAACAAGAAGGCTAGTTATAAAATAATTAATTATGGAGACTATTATGATGTTGATTATTATGATAACAATTTGAAAAATGAAGTTTTTGACTGGATTGGTAAATGGTCATAATGAACAACACCAGAAAGAGAAAAATATAAAATACATACAGAAAGACATGAGAGCAAGGGACGGGGCAGGGCAAGATCATGAAAATTGTGATGTAAATCACGATTTTCATCTTTGCTTTAACGCCTACAGGTGATCAAAATTTAACCTTTGGAATAACTAAAAAGATAAAAAAGGACGCCAGGTGAGTATTCAAAGTTTGCTTGATTATATTTCAGTGACCCCTGATATACGACAACAAGGAAAGGTTAAACATAAATTATCTGCTATTTTGTTTCTCACCGTATGTGCAGTAATTGCAGGTGCCGATGAGTGGCAGGAAATTGAAGATTTTGGACATGAAAGACTTGAATGGCTAAAGAAATATGGTGATTTTGATAATGGCATTCCGGTCGATGACACCATTGCACGCGTTGTGAGTAACATTGACAGTTTGGCCTTTGAAAAGATGTTTATTGAATGGATGCAGGAGTGCCATGAAATCACTGATGGTGAAATTATAGCAATAGATGGAAAGACCATAAGAGGCTCCTTTGATAAGGGAAAAAGAAAAGGAGCAATCCATATGGTGAGTGCATTCTCGAACGAAAATGGTGTTGTACTGGGGCAGGTGAAAACGGAAGCCAAAAGTAATGAGATTACAGCCATTCCAGAGTTGCTTAACCTACTGTATTTAAAGAAAAATTTGATAACCATTGATGCTATGGGCTGTCAGAAAGATATCGCTTCGAAGATCAAAGATAAAAAAGCAGATTATCTTCTGGCAGTAAAAGGCAATCAGGGGAAATTACATCATGCATTCGAGGAAAAATTTCCTGTAAATGTGTTTTCTAATTATAAAGGCGATTCGTTTAGTACGCAGGAGATAAGTCATGGAAGAAAAGAAACACGTTTGCATATTGTCAGTAACGTAACGCCTGAACTTTTGTGATTTTGAATTCGAATGGAAGGGATTAAAAAAGCTTTGTGTAGCATTGTCATTCAGGCAGAAGAAAGAAGATAAATCAGCAGAAGGTGTAAGCATCCGATATTATATTTCATCAAAGGATATGGATGCTAAAGAATTTGCACATGCTATCAGAGCGCACTGGCTGATCGAGCACAGTCTTCATTGGGTGTTAGATGTAAAAATGAATGAAGATGCCAGCCGGATAAGAAGAGGAAACGCAGCCTAAATAATATCTGGAATAAAGAAGATGGCACTGAATTTATTAAGAGATTGCAAAGACATTAAGGGTGAAGAGGAAAAGAAAGAAGGCTGCGTTAAACACAGGGAAAGATCATCAGAAGTTCACTTTTTGTACTAAACAATTCGCATTTTATGTTTAAAAATTGAGATATTCCTTATTACCTAAAGCTGTTTTTTATTGCTTACACATGATCAAATACTCCTTACATAATTAAGGAGAACAAAATGGAACTTAAAAAATTGATGGGACATATTTCTATTATCCCCGATTACAGACAAGCCTGGAAAATGGAACATAAGTTATCGGATATTCTACTGTTGACTATTTGTGCCGTTATTTCTGGTGCAGAAGGCTGGGAAGATATAGAGGATTTTGGGGAAACACATCCCGATTTTTTGAAGCAATATGGTGATTTTGAAAATGGTATTCCTGTTCACGACACCATTGCCAGAGTTGTATCCTGTATCAGTCCTGCAAAATTTCACGAGTGCTTTATTAACTGGATGCGTGACTGCCATTCTTCAGATGATAAAGACGTCATTGCAATTGATGGAAAAACGCTCCGGCATTCTTATGATAAGAGTCGCCGCAGGGGAGCGATTCATGTCATTAGTGCGTTCTCAACAATGCACAGTCTGGTCATCGGACAGATCAAGACGGATGAGAAATCTAATGAGATTACAGCTATCCCAGAACTTCTTAACATGCTGGATATTAAAGGAAAAATCATCACAACTGATGCGATGGGTTGCCAGAAAGATATTGCAGAGAAGATACAAAAACAGGGAGGTGATTATTTATTCGCGGTAAAAGGAAACCAGGGGCGGCTAAATAAAGCCTTTGAGGAAAAATTTCCGCTGAAAGAATTAAATAATCCAGCGCATGACAGTTACGCAATGAGTGAAAAGAGTCACGGCAGAGAAGAAATCCGTCTTCATATTGTTTGCGATGTCCCTGATGAACTTATTGATTTCACGTTTGAATGGAAAGGGCTGAAGAAATTATGCGTGGCAGTCTCCTTTCGGTCCATAATAGCAGAACAAAAGAAAGAGCTCGAAATGACGGTCAGATATTATATCAGTTCTGCTGATTTAACCGCAGAGAAGTTCGCCACAGCAATCCGAAACCACTGGCATGTGGAGAATAAGCTGCACTGGCGTCTGGACGTGGTAATGAATGAAGACGACTGCAAAATAAGAAGAGGAAATGCAGCAGAATTATTTTCAGGGATACGGCACATTGCTATTAATATTTTGACGAATGATAAGGTATTCAAGGCAGGGTTAAGACGTAAGATGCGAAAAGCAGCCATGGACAGAAACTACCTGGCGTCAGTCCTTACGGGGAGCGGGCTTTCGTAA'\n",
    "homology_region=Seq(homology_seq)"
   ]
  },
  {
   "cell_type": "code",
   "execution_count": 3,
   "metadata": {},
   "outputs": [],
   "source": [
    "genome_fasta_file='NC_000913.fasta'\n",
    "for seq_record in SeqIO.parse(genome_fasta_file,'fasta'):\n",
    "    genome=seq_record.seq"
   ]
  },
  {
   "cell_type": "code",
   "execution_count": 4,
   "metadata": {},
   "outputs": [
    {
     "data": {
      "text/plain": [
       "Seq('AGCTTTTCATTCTGACTGCAACGGGCAATATGTCTCTGTGTGGATTAAAAAAAG...TTC')"
      ]
     },
     "execution_count": 4,
     "metadata": {},
     "output_type": "execute_result"
    }
   ],
   "source": [
    "genome"
   ]
  },
  {
   "cell_type": "code",
   "execution_count": 5,
   "metadata": {},
   "outputs": [
    {
     "data": {
      "text/plain": [
       "Seq('AAGGATAAATGGCGTTCTCTGTATTTATTCGCAATTATCTGTAGGACAAATATG...TAA')"
      ]
     },
     "execution_count": 5,
     "metadata": {},
     "output_type": "execute_result"
    }
   ],
   "source": [
    "homology_region"
   ]
  },
  {
   "cell_type": "code",
   "execution_count": 6,
   "metadata": {},
   "outputs": [],
   "source": [
    "match_number=100;"
   ]
  },
  {
   "cell_type": "code",
   "execution_count": 7,
   "metadata": {},
   "outputs": [],
   "source": [
    "def find_direct_repeats(genome,homology_region,match_number):\n",
    "    \n",
    "    # Make the list of all match#-bp sequences from the homology region\n",
    "    i=0;\n",
    "    potential_HR_list=[];\n",
    "    while (i+match_number-1)<len(homology_region):\n",
    "        # Each segment in this list is the length of match_number\n",
    "        potential_HR_list.append(homology_region[i:i+match_number])\n",
    "        i+=1;\n",
    "    \n",
    "    # Search the genome sequence for each match#-bp sequence you have extracted\n",
    "    f=0;\n",
    "    index_list=[];\n",
    "    dummy_genome=str(genome);\n",
    "    \n",
    "    while f<len(potential_HR_list):\n",
    "        \n",
    "        # This sets which match#-bp sequence you are searching against the genome\n",
    "        current_HR=str(potential_HR_list[f]);\n",
    "        \n",
    "        # If it is found, search returns an index, if not it returns -1\n",
    "        search=dummy_genome.find(current_HR)\n",
    "        \n",
    "        # If you don't find the current match#-bp seq. anywhere, move on to the next seq.\n",
    "        if search==-1:\n",
    "            f+=1\n",
    "        \n",
    "        # If you find a match, see how far the match extends\n",
    "        else:\n",
    "            # Save the current HR index, without changing f\n",
    "            h=f;\n",
    "            \n",
    "            #set the starting index\n",
    "            index=search;\n",
    "            \n",
    "            # set count to -1 first since you have technically not moved to the next one yet\n",
    "            count=-1;\n",
    "            \n",
    "            while dummy_genome.find(current_HR)!=-1 and h+1<len(potential_HR_list):\n",
    "                h+=1\n",
    "                current_HR=str(potential_HR_list[h])\n",
    "                count+=1; # This will be added to match number to get total length of segment\n",
    "            else:\n",
    "                length=count+match_number;\n",
    "                hit=[index,length];\n",
    "                index_list.append(hit);\n",
    "            # Need to find if that same sequence is found somewhere else in the genome\n",
    "                dummy_genome.replace(dummy_genome[0:index+length],(index+length)*'N')\n",
    "                f+=1;\n",
    "        \n",
    "    return index_list\n",
    "        "
   ]
  },
  {
   "cell_type": "code",
   "execution_count": 8,
   "metadata": {},
   "outputs": [
    {
     "ename": "KeyboardInterrupt",
     "evalue": "",
     "output_type": "error",
     "traceback": [
      "\u001b[1;31m---------------------------------------------------------------------------\u001b[0m",
      "\u001b[1;31mKeyboardInterrupt\u001b[0m                         Traceback (most recent call last)",
      "\u001b[1;32m<ipython-input-8-f37b30fa0085>\u001b[0m in \u001b[0;36m<module>\u001b[1;34m\u001b[0m\n\u001b[1;32m----> 1\u001b[1;33m \u001b[0mindex_list\u001b[0m\u001b[1;33m=\u001b[0m\u001b[0mfind_direct_repeats\u001b[0m\u001b[1;33m(\u001b[0m\u001b[0mgenome\u001b[0m\u001b[1;33m,\u001b[0m\u001b[0mhomology_region\u001b[0m\u001b[1;33m,\u001b[0m\u001b[0mmatch_number\u001b[0m\u001b[1;33m)\u001b[0m\u001b[1;33m\u001b[0m\u001b[1;33m\u001b[0m\u001b[0m\n\u001b[0m",
      "\u001b[1;32m<ipython-input-7-6d7742153f3b>\u001b[0m in \u001b[0;36mfind_direct_repeats\u001b[1;34m(genome, homology_region, match_number)\u001b[0m\n\u001b[0;32m     38\u001b[0m \u001b[1;33m\u001b[0m\u001b[0m\n\u001b[0;32m     39\u001b[0m             \u001b[1;32mwhile\u001b[0m \u001b[0mdummy_genome\u001b[0m\u001b[1;33m.\u001b[0m\u001b[0mfind\u001b[0m\u001b[1;33m(\u001b[0m\u001b[0mcurrent_HR\u001b[0m\u001b[1;33m)\u001b[0m\u001b[1;33m!=\u001b[0m\u001b[1;33m-\u001b[0m\u001b[1;36m1\u001b[0m \u001b[1;32mand\u001b[0m \u001b[0mh\u001b[0m\u001b[1;33m+\u001b[0m\u001b[1;36m1\u001b[0m\u001b[1;33m<\u001b[0m\u001b[0mlen\u001b[0m\u001b[1;33m(\u001b[0m\u001b[0mpotential_HR_list\u001b[0m\u001b[1;33m)\u001b[0m\u001b[1;33m:\u001b[0m\u001b[1;33m\u001b[0m\u001b[1;33m\u001b[0m\u001b[0m\n\u001b[1;32m---> 40\u001b[1;33m                 \u001b[0mh\u001b[0m\u001b[1;33m+=\u001b[0m\u001b[1;36m1\u001b[0m\u001b[1;33m\u001b[0m\u001b[1;33m\u001b[0m\u001b[0m\n\u001b[0m\u001b[0;32m     41\u001b[0m                 \u001b[0mcurrent_HR\u001b[0m\u001b[1;33m=\u001b[0m\u001b[0mstr\u001b[0m\u001b[1;33m(\u001b[0m\u001b[0mpotential_HR_list\u001b[0m\u001b[1;33m[\u001b[0m\u001b[0mh\u001b[0m\u001b[1;33m]\u001b[0m\u001b[1;33m)\u001b[0m\u001b[1;33m\u001b[0m\u001b[1;33m\u001b[0m\u001b[0m\n\u001b[0;32m     42\u001b[0m                 \u001b[0mcount\u001b[0m\u001b[1;33m+=\u001b[0m\u001b[1;36m1\u001b[0m\u001b[1;33m;\u001b[0m \u001b[1;31m# This will be added to match number to get total length of segment\u001b[0m\u001b[1;33m\u001b[0m\u001b[1;33m\u001b[0m\u001b[0m\n",
      "\u001b[1;31mKeyboardInterrupt\u001b[0m: "
     ]
    }
   ],
   "source": [
    "index_list=find_direct_repeats(genome,homology_region,match_number)"
   ]
  },
  {
   "cell_type": "code",
   "execution_count": null,
   "metadata": {},
   "outputs": [],
   "source": [
    "index_list"
   ]
  },
  {
   "cell_type": "code",
   "execution_count": null,
   "metadata": {},
   "outputs": [],
   "source": []
  },
  {
   "cell_type": "code",
   "execution_count": null,
   "metadata": {},
   "outputs": [],
   "source": [
    "def find_direct_repeats(genome,homology_region,match_number):\n",
    "    \n",
    "    # Make the list of all match#-bp sequences from the homology region\n",
    "    i=0;\n",
    "    potential_HR_list=[];\n",
    "    while (i+match_number-1)<len(homology_region):\n",
    "        # Each segment in this list is the length of match_number\n",
    "        potential_HR_list.append(homology_region[i:i+match_number])\n",
    "        i+=1;\n",
    "    \n",
    "    # Search the genome sequence for each match#-bp sequence you have extracted\n",
    "    f=0;\n",
    "    index_list=[];\n",
    "    dummy_genome=str(genome);\n",
    "    \n",
    "    while f<len(potential_HR_list):\n",
    "        \n",
    "        # This sets which match#-bp sequence you are searching against the genome\n",
    "        current_HR=str(potential_HR_list[f]);\n",
    "        \n",
    "        # If it is found, search returns an index, if not it returns -1\n",
    "        search=dummy_genome.find(current_HR)\n",
    "        \n",
    "        # If you don't find the current match#-bp seq. anywhere, move on to the next seq.\n",
    "        if search==-1:\n",
    "            f+=1\n",
    "        \n",
    "        # If you find a match, see how far the match extends\n",
    "        else:\n",
    "            # Save the current HR index, without changing f\n",
    "            h=f;\n",
    "            \n",
    "            #set the starting index\n",
    "            index=search;\n",
    "            \n",
    "            # set count to -1 first since you have technically not moved to the next one yet\n",
    "            count=-1;\n",
    "            \n",
    "            while dummy_genome.find(current_HR)!=-1 and h+1<len(potential_HR_list):\n",
    "                h+=1\n",
    "                current_HR=str(potential_HR_list[h])\n",
    "                count+=1; # This will be added to match number to get total length of segment\n",
    "            else:\n",
    "                length=count+match_number;\n",
    "                hit=[index,length];\n",
    "                index_list.append(hit);\n",
    "            # Need to find if that same sequence is found somewhere else in the genome\n",
    "                dummy_genome=dummy_genome\n",
    "                dummy_genome.replace(dummy_genome[0:index+length],(index+length)*'N')\n",
    "                f+=1;\n",
    "        \n",
    "    return index_list\n",
    "        "
   ]
  },
  {
   "cell_type": "code",
   "execution_count": null,
   "metadata": {},
   "outputs": [],
   "source": []
  },
  {
   "cell_type": "code",
   "execution_count": null,
   "metadata": {},
   "outputs": [],
   "source": []
  },
  {
   "cell_type": "code",
   "execution_count": null,
   "metadata": {},
   "outputs": [],
   "source": []
  },
  {
   "cell_type": "code",
   "execution_count": null,
   "metadata": {},
   "outputs": [],
   "source": []
  },
  {
   "cell_type": "code",
   "execution_count": null,
   "metadata": {},
   "outputs": [],
   "source": []
  },
  {
   "cell_type": "code",
   "execution_count": 53,
   "metadata": {},
   "outputs": [],
   "source": [
    "genome=Seq('MYMOMISVERYHAPPYTHATIWENTTOCOLLEGEANDNOWMYLIFEISGOOD')"
   ]
  },
  {
   "cell_type": "code",
   "execution_count": 54,
   "metadata": {},
   "outputs": [],
   "source": [
    "homology_region=Seq('MOMHAPPYCOLLEGELIFE')"
   ]
  },
  {
   "cell_type": "code",
   "execution_count": 55,
   "metadata": {},
   "outputs": [],
   "source": [
    "match_number=3;"
   ]
  },
  {
   "cell_type": "code",
   "execution_count": 11,
   "metadata": {},
   "outputs": [],
   "source": [
    "    i=0;\n",
    "    potential_HR_list=[];\n",
    "    while (i+match_number-1)<len(homology_region):\n",
    "        # Each segment in this list is the length of match_number\n",
    "        potential_HR_list.append(homology_region[i:i+match_number])\n",
    "        i+=1;\n",
    "    \n",
    "    # Search the genome sequence for each match#-bp sequence you have extracted\n",
    "    f=0;\n",
    "    index_list=[];\n",
    "    dummy_genome=str(genome);"
   ]
  },
  {
   "cell_type": "code",
   "execution_count": 12,
   "metadata": {},
   "outputs": [
    {
     "data": {
      "text/plain": [
       "[Seq('MOM'),\n",
       " Seq('OMH'),\n",
       " Seq('MHA'),\n",
       " Seq('HAP'),\n",
       " Seq('APP'),\n",
       " Seq('PPY'),\n",
       " Seq('PYC'),\n",
       " Seq('YCO'),\n",
       " Seq('COL'),\n",
       " Seq('OLL'),\n",
       " Seq('LLE'),\n",
       " Seq('LEG'),\n",
       " Seq('EGE'),\n",
       " Seq('GEL'),\n",
       " Seq('ELI'),\n",
       " Seq('LIF'),\n",
       " Seq('IFE')]"
      ]
     },
     "execution_count": 12,
     "metadata": {},
     "output_type": "execute_result"
    }
   ],
   "source": [
    "potential_HR_list"
   ]
  },
  {
   "cell_type": "code",
   "execution_count": 13,
   "metadata": {},
   "outputs": [],
   "source": [
    "    f=0;\n",
    "    index_list=[];\n",
    "    dummy_genome=str(genome);"
   ]
  },
  {
   "cell_type": "code",
   "execution_count": 14,
   "metadata": {},
   "outputs": [
    {
     "data": {
      "text/plain": [
       "'MYMOMISVERYHAPPYTHATIWENTTOCOLLEGEANDNOWMYLIFEISGOOD'"
      ]
     },
     "execution_count": 14,
     "metadata": {},
     "output_type": "execute_result"
    }
   ],
   "source": [
    "dummy_genome"
   ]
  },
  {
   "cell_type": "code",
   "execution_count": 15,
   "metadata": {},
   "outputs": [
    {
     "data": {
      "text/plain": [
       "0"
      ]
     },
     "execution_count": 15,
     "metadata": {},
     "output_type": "execute_result"
    }
   ],
   "source": [
    "f"
   ]
  },
  {
   "cell_type": "code",
   "execution_count": 17,
   "metadata": {},
   "outputs": [
    {
     "data": {
      "text/plain": [
       "17"
      ]
     },
     "execution_count": 17,
     "metadata": {},
     "output_type": "execute_result"
    }
   ],
   "source": [
    "len(potential_HR_list)"
   ]
  },
  {
   "cell_type": "code",
   "execution_count": 18,
   "metadata": {},
   "outputs": [],
   "source": [
    "        current_HR=str(potential_HR_list[f]);\n",
    "        search=dummy_genome.find(current_HR)"
   ]
  },
  {
   "cell_type": "code",
   "execution_count": 31,
   "metadata": {},
   "outputs": [
    {
     "data": {
      "text/plain": [
       "True"
      ]
     },
     "execution_count": 31,
     "metadata": {},
     "output_type": "execute_result"
    }
   ],
   "source": [
    "dummy_genome.find(current_HR)!=-1"
   ]
  },
  {
   "cell_type": "code",
   "execution_count": 34,
   "metadata": {},
   "outputs": [
    {
     "data": {
      "text/plain": [
       "1"
      ]
     },
     "execution_count": 34,
     "metadata": {},
     "output_type": "execute_result"
    }
   ],
   "source": [
    "h"
   ]
  },
  {
   "cell_type": "code",
   "execution_count": 35,
   "metadata": {},
   "outputs": [],
   "source": [
    "current_HR=str(potential_HR_list[h])"
   ]
  },
  {
   "cell_type": "code",
   "execution_count": 36,
   "metadata": {},
   "outputs": [
    {
     "data": {
      "text/plain": [
       "'OMH'"
      ]
     },
     "execution_count": 36,
     "metadata": {},
     "output_type": "execute_result"
    }
   ],
   "source": [
    "current_HR"
   ]
  },
  {
   "cell_type": "code",
   "execution_count": 38,
   "metadata": {},
   "outputs": [
    {
     "data": {
      "text/plain": [
       "False"
      ]
     },
     "execution_count": 38,
     "metadata": {},
     "output_type": "execute_result"
    }
   ],
   "source": [
    "dummy_genome.find(current_HR)!=-1"
   ]
  },
  {
   "cell_type": "code",
   "execution_count": 39,
   "metadata": {},
   "outputs": [],
   "source": [
    "count=0"
   ]
  },
  {
   "cell_type": "code",
   "execution_count": 41,
   "metadata": {},
   "outputs": [],
   "source": [
    "length=count+match_number"
   ]
  },
  {
   "cell_type": "code",
   "execution_count": 43,
   "metadata": {},
   "outputs": [],
   "source": [
    "index=search"
   ]
  },
  {
   "cell_type": "code",
   "execution_count": 44,
   "metadata": {},
   "outputs": [],
   "source": [
    "hit=[index,length]"
   ]
  },
  {
   "cell_type": "code",
   "execution_count": 45,
   "metadata": {},
   "outputs": [
    {
     "data": {
      "text/plain": [
       "[2, 3]"
      ]
     },
     "execution_count": 45,
     "metadata": {},
     "output_type": "execute_result"
    }
   ],
   "source": [
    "hit"
   ]
  },
  {
   "cell_type": "code",
   "execution_count": 46,
   "metadata": {},
   "outputs": [],
   "source": [
    "index_list.append(hit)"
   ]
  },
  {
   "cell_type": "code",
   "execution_count": 47,
   "metadata": {},
   "outputs": [
    {
     "data": {
      "text/plain": [
       "[[2, 3]]"
      ]
     },
     "execution_count": 47,
     "metadata": {},
     "output_type": "execute_result"
    }
   ],
   "source": [
    "index_list"
   ]
  },
  {
   "cell_type": "code",
   "execution_count": 48,
   "metadata": {},
   "outputs": [],
   "source": [
    "hit2=[7,8]"
   ]
  },
  {
   "cell_type": "code",
   "execution_count": 49,
   "metadata": {},
   "outputs": [],
   "source": [
    "index_list.append(hit2)"
   ]
  },
  {
   "cell_type": "code",
   "execution_count": 50,
   "metadata": {},
   "outputs": [
    {
     "data": {
      "text/plain": [
       "[[2, 3], [7, 8]]"
      ]
     },
     "execution_count": 50,
     "metadata": {},
     "output_type": "execute_result"
    }
   ],
   "source": [
    "index_list"
   ]
  },
  {
   "cell_type": "code",
   "execution_count": 51,
   "metadata": {},
   "outputs": [
    {
     "data": {
      "text/plain": [
       "'NNNNNISVERYHAPPYTHATIWENTTOCOLLEGEANDNOWMYLIFEISGOOD'"
      ]
     },
     "execution_count": 51,
     "metadata": {},
     "output_type": "execute_result"
    }
   ],
   "source": [
    "dummy_genome.replace(dummy_genome[0:index+length],(index+length)*'N')"
   ]
  },
  {
   "cell_type": "code",
   "execution_count": null,
   "metadata": {},
   "outputs": [],
   "source": []
  },
  {
   "cell_type": "code",
   "execution_count": null,
   "metadata": {},
   "outputs": [],
   "source": []
  },
  {
   "cell_type": "code",
   "execution_count": null,
   "metadata": {},
   "outputs": [],
   "source": []
  },
  {
   "cell_type": "code",
   "execution_count": null,
   "metadata": {},
   "outputs": [],
   "source": []
  },
  {
   "cell_type": "code",
   "execution_count": null,
   "metadata": {},
   "outputs": [],
   "source": []
  },
  {
   "cell_type": "code",
   "execution_count": null,
   "metadata": {},
   "outputs": [],
   "source": []
  },
  {
   "cell_type": "code",
   "execution_count": null,
   "metadata": {},
   "outputs": [],
   "source": []
  },
  {
   "cell_type": "code",
   "execution_count": null,
   "metadata": {},
   "outputs": [],
   "source": []
  }
 ],
 "metadata": {
  "kernelspec": {
   "display_name": "Python 3",
   "language": "python",
   "name": "python3"
  },
  "language_info": {
   "codemirror_mode": {
    "name": "ipython",
    "version": 3
   },
   "file_extension": ".py",
   "mimetype": "text/x-python",
   "name": "python",
   "nbconvert_exporter": "python",
   "pygments_lexer": "ipython3",
   "version": "3.8.5"
  }
 },
 "nbformat": 4,
 "nbformat_minor": 4
}

{
 "cells": [
  {
   "cell_type": "code",
   "execution_count": 1,
   "metadata": {},
   "outputs": [],
   "source": [
    "import numpy as np\n",
    "data=np.load('Thousand_bp_data.npz')\n",
    "A=data['arr_0']\n",
    "B=data['arr_1']"
   ]
  },
  {
   "cell_type": "code",
   "execution_count": 2,
   "metadata": {},
   "outputs": [
    {
     "data": {
      "text/plain": [
       "array([[0.25, 0.25, 0.5 , ..., 1.  , 1.  , 0.25],\n",
       "       [0.5 , 0.25, 1.  , ..., 0.5 , 0.25, 0.5 ],\n",
       "       [0.25, 0.75, 0.25, ..., 0.5 , 0.25, 0.25],\n",
       "       ...,\n",
       "       [1.  , 0.25, 0.5 , ..., 0.25, 0.75, 0.75],\n",
       "       [0.5 , 0.75, 0.5 , ..., 0.25, 0.25, 0.75],\n",
       "       [0.75, 0.75, 0.5 , ..., 1.  , 0.75, 0.5 ]])"
      ]
     },
     "execution_count": 2,
     "metadata": {},
     "output_type": "execute_result"
    }
   ],
   "source": [
    "A"
   ]
  },
  {
   "cell_type": "code",
   "execution_count": 3,
   "metadata": {},
   "outputs": [
    {
     "data": {
      "text/plain": [
       "array([[0.25, 1.  , 1.  , ..., 0.25, 1.  , 1.  ],\n",
       "       [1.  , 1.  , 1.  , ..., 1.  , 0.25, 1.  ],\n",
       "       [1.  , 1.  , 0.75, ..., 0.25, 0.25, 1.  ],\n",
       "       ...,\n",
       "       [0.5 , 0.75, 1.  , ..., 0.5 , 1.  , 1.  ],\n",
       "       [0.75, 1.  , 1.  , ..., 1.  , 1.  , 1.  ],\n",
       "       [1.  , 1.  , 0.75, ..., 1.  , 0.25, 1.  ]])"
      ]
     },
     "execution_count": 3,
     "metadata": {},
     "output_type": "execute_result"
    }
   ],
   "source": [
    "B"
   ]
  },
  {
   "cell_type": "code",
   "execution_count": 4,
   "metadata": {},
   "outputs": [
    {
     "data": {
      "text/plain": [
       "(356863, 1001)"
      ]
     },
     "execution_count": 4,
     "metadata": {},
     "output_type": "execute_result"
    }
   ],
   "source": [
    "np.shape(B)"
   ]
  },
  {
   "cell_type": "code",
   "execution_count": 5,
   "metadata": {},
   "outputs": [
    {
     "data": {
      "text/plain": [
       "(356863, 1000)"
      ]
     },
     "execution_count": 5,
     "metadata": {},
     "output_type": "execute_result"
    }
   ],
   "source": [
    "np.shape(A)"
   ]
  },
  {
   "cell_type": "code",
   "execution_count": 6,
   "metadata": {},
   "outputs": [],
   "source": [
    "non_path_labelled = np.hstack((A, np.atleast_2d(np.zeros(len(A))).T))"
   ]
  },
  {
   "cell_type": "code",
   "execution_count": 7,
   "metadata": {},
   "outputs": [
    {
     "data": {
      "text/plain": [
       "array([[0.25, 0.25, 0.5 , ..., 1.  , 0.25, 0.  ],\n",
       "       [0.5 , 0.25, 1.  , ..., 0.25, 0.5 , 0.  ],\n",
       "       [0.25, 0.75, 0.25, ..., 0.25, 0.25, 0.  ],\n",
       "       ...,\n",
       "       [1.  , 0.25, 0.5 , ..., 0.75, 0.75, 0.  ],\n",
       "       [0.5 , 0.75, 0.5 , ..., 0.25, 0.75, 0.  ],\n",
       "       [0.75, 0.75, 0.5 , ..., 0.75, 0.5 , 0.  ]])"
      ]
     },
     "execution_count": 7,
     "metadata": {},
     "output_type": "execute_result"
    }
   ],
   "source": [
    "non_path_labelled"
   ]
  },
  {
   "cell_type": "code",
   "execution_count": 8,
   "metadata": {},
   "outputs": [
    {
     "data": {
      "text/plain": [
       "array([[0.25, 1.  , 1.  , ..., 0.25, 1.  , 1.  ],\n",
       "       [1.  , 1.  , 1.  , ..., 1.  , 0.25, 1.  ],\n",
       "       [1.  , 1.  , 0.75, ..., 0.25, 0.25, 1.  ],\n",
       "       ...,\n",
       "       [0.5 , 0.75, 1.  , ..., 0.5 , 1.  , 1.  ],\n",
       "       [0.75, 1.  , 1.  , ..., 1.  , 1.  , 1.  ],\n",
       "       [1.  , 1.  , 0.75, ..., 1.  , 0.25, 1.  ]])"
      ]
     },
     "execution_count": 8,
     "metadata": {},
     "output_type": "execute_result"
    }
   ],
   "source": [
    "path_labelled=B;\n",
    "path_labelled"
   ]
  },
  {
   "cell_type": "code",
   "execution_count": 9,
   "metadata": {},
   "outputs": [],
   "source": [
    "data=np.concatenate((non_path_labelled,path_labelled),axis=0)"
   ]
  },
  {
   "cell_type": "code",
   "execution_count": 10,
   "metadata": {},
   "outputs": [
    {
     "data": {
      "text/plain": [
       "array([[0.25, 0.25, 0.5 , ..., 1.  , 0.25, 0.  ],\n",
       "       [0.5 , 0.25, 1.  , ..., 0.25, 0.5 , 0.  ],\n",
       "       [0.25, 0.75, 0.25, ..., 0.25, 0.25, 0.  ],\n",
       "       ...,\n",
       "       [0.5 , 0.75, 1.  , ..., 0.5 , 1.  , 1.  ],\n",
       "       [0.75, 1.  , 1.  , ..., 1.  , 1.  , 1.  ],\n",
       "       [1.  , 1.  , 0.75, ..., 1.  , 0.25, 1.  ]])"
      ]
     },
     "execution_count": 10,
     "metadata": {},
     "output_type": "execute_result"
    }
   ],
   "source": [
    "data"
   ]
  },
  {
   "cell_type": "code",
   "execution_count": 11,
   "metadata": {},
   "outputs": [
    {
     "data": {
      "text/plain": [
       "(713726, 1001)"
      ]
     },
     "execution_count": 11,
     "metadata": {},
     "output_type": "execute_result"
    }
   ],
   "source": [
    "np.shape(data)"
   ]
  },
  {
   "cell_type": "code",
   "execution_count": 12,
   "metadata": {},
   "outputs": [
    {
     "data": {
      "text/plain": [
       "array([0., 0., 0., ..., 1., 1., 1.])"
      ]
     },
     "execution_count": 12,
     "metadata": {},
     "output_type": "execute_result"
    }
   ],
   "source": [
    "y_raw=data[:,-1]\n",
    "y_raw"
   ]
  },
  {
   "cell_type": "code",
   "execution_count": 13,
   "metadata": {},
   "outputs": [
    {
     "data": {
      "text/plain": [
       "array([[0.25, 0.25, 0.5 , ..., 1.  , 1.  , 0.25],\n",
       "       [0.5 , 0.25, 1.  , ..., 0.5 , 0.25, 0.5 ],\n",
       "       [0.25, 0.75, 0.25, ..., 0.5 , 0.25, 0.25],\n",
       "       ...,\n",
       "       [0.5 , 0.75, 1.  , ..., 1.  , 0.5 , 1.  ],\n",
       "       [0.75, 1.  , 1.  , ..., 0.5 , 1.  , 1.  ],\n",
       "       [1.  , 1.  , 0.75, ..., 1.  , 1.  , 0.25]])"
      ]
     },
     "execution_count": 13,
     "metadata": {},
     "output_type": "execute_result"
    }
   ],
   "source": [
    "X_raw=np.delete(data,-1,axis=1)\n",
    "X_raw"
   ]
  },
  {
   "cell_type": "code",
   "execution_count": 14,
   "metadata": {},
   "outputs": [
    {
     "data": {
      "text/plain": [
       "array([[0.],\n",
       "       [0.],\n",
       "       [0.],\n",
       "       ...,\n",
       "       [1.],\n",
       "       [1.],\n",
       "       [1.]])"
      ]
     },
     "execution_count": 14,
     "metadata": {},
     "output_type": "execute_result"
    }
   ],
   "source": [
    "y_raw.reshape(len(y_raw),1)"
   ]
  },
  {
   "cell_type": "code",
   "execution_count": 15,
   "metadata": {},
   "outputs": [],
   "source": [
    "from sklearn.model_selection import train_test_split\n",
    "X_train, X_test, y_train, y_test= train_test_split(X_raw, y_raw.reshape(len(y_raw),1), test_size=0.5, random_state=101)"
   ]
  },
  {
   "cell_type": "code",
   "execution_count": 16,
   "metadata": {},
   "outputs": [],
   "source": [
    "np.savez('Thousand_bp_trial2',X_train,y_train,X_test,y_test,'Xtrain','ytrain','Xtest','ytest')"
   ]
  },
  {
   "cell_type": "code",
   "execution_count": null,
   "metadata": {},
   "outputs": [],
   "source": []
  }
 ],
 "metadata": {
  "kernelspec": {
   "display_name": "Python 3",
   "language": "python",
   "name": "python3"
  },
  "language_info": {
   "codemirror_mode": {
    "name": "ipython",
    "version": 3
   },
   "file_extension": ".py",
   "mimetype": "text/x-python",
   "name": "python",
   "nbconvert_exporter": "python",
   "pygments_lexer": "ipython3",
   "version": "3.8.5"
  }
 },
 "nbformat": 4,
 "nbformat_minor": 4
}

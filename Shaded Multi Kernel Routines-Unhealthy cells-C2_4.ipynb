{
 "cells": [
  {
   "cell_type": "code",
   "execution_count": null,
   "metadata": {},
   "outputs": [],
   "source": [
    "import matplotlib.pyplot as plt;\n",
    "import seaborn as sns;\n",
    "from PIL import Image\n",
    "from matplotlib.pyplot import imshow\n",
    "%matplotlib inline  \n",
    "import numpy as np;\n",
    "import glob"
   ]
  },
  {
   "cell_type": "markdown",
   "metadata": {},
   "source": [
    "## Image Ingest"
   ]
  },
  {
   "cell_type": "code",
   "execution_count": null,
   "metadata": {},
   "outputs": [],
   "source": [
    "def rgb2gray(rgb):\n",
    "\n",
    "    r, g, b = rgb[:,:,0], rgb[:,:,1], rgb[:,:,2]\n",
    "    gray = 0.2989 * r + 0.5870 * g + 0.1140 * b\n",
    "\n",
    "    return gray"
   ]
  },
  {
   "cell_type": "code",
   "execution_count": null,
   "metadata": {},
   "outputs": [],
   "source": [
    "import os\n",
    "arr = os.listdir(\"Data/Kernels\")\n",
    "print(arr)\n",
    "print(len(arr))"
   ]
  },
  {
   "cell_type": "markdown",
   "metadata": {},
   "source": [
    "## Set Healthy Kernel"
   ]
  },
  {
   "cell_type": "code",
   "execution_count": null,
   "metadata": {},
   "outputs": [],
   "source": [
    "set_kernel = True;\n",
    "invert_image = False;\n",
    "im_loop = []\n",
    "\n",
    "for name in arr:\n",
    "    if name.endswith(\".tif\"):\n",
    "        im = Image.open(\"Data/Kernels/\"+ str(name))\n",
    "        im_loop.append(np.asarray(im))\n",
    "        print(name)\n",
    "        imshow(im)\n",
    "#imshow(np.asarray(im))\n",
    "#im_array_gray = np.asarray(im,dtype=np.float32)\n",
    "#im_array_gray = rgb2gray(im_array);\n",
    "#if invert_image:\n",
    "    #im_array_gray = (np.abs(255.0-im_array_gray))"
   ]
  },
  {
   "cell_type": "code",
   "execution_count": null,
   "metadata": {},
   "outputs": [],
   "source": [
    "from scipy.ndimage import gaussian_filter\n",
    "from skimage import data\n",
    "from skimage import img_as_float\n",
    "from skimage.morphology import reconstruction\n",
    "\n",
    "#im = Image.open(\"Data/Kernels/C2_03_1_1_Bright Field_004.tif\");\n",
    "\n",
    "\n",
    "# Convert to float: Important for subtraction later which won't work with uint8\n",
    "image = img_as_float(data.coins())\n",
    "image = gaussian_filter(im, 1)\n",
    "\n",
    "seed = np.copy(image)\n",
    "seed[1:-1, 1:-1] = image.min()\n",
    "mask = image\n",
    "\n",
    "dilated = reconstruction(seed, mask, method='dilation')\n",
    "im_array_gray = image; \n",
    "imshow(im_array_gray)"
   ]
  },
  {
   "cell_type": "code",
   "execution_count": null,
   "metadata": {},
   "outputs": [],
   "source": [
    "fig, (ax0, ax1, ax2) = plt.subplots(nrows=1,\n",
    "                                 ncols=3,\n",
    "                                 figsize=(40, 10.5),\n",
    "                                 sharex=True,\n",
    "                                 sharey=True)\n",
    "\n",
    "ax0.imshow(image, cmap='gray')\n",
    "ax0.set_title('original image')\n",
    "ax0.axis('off')\n",
    "\n",
    "ax1.imshow(dilated, vmin=image.min(), vmax=image.max(), cmap='gray')\n",
    "ax1.set_title('dilated')\n",
    "ax1.axis('off')\n",
    "\n",
    "ax2.imshow((dilated-image), cmap='gray')\n",
    "ax2.set_title('image - dilated')\n",
    "ax2.axis('off')\n",
    "\n",
    "fig.tight_layout()\n",
    "\n",
    "plt.figure(figsize=[35,35])\n",
    "imshow(im_array_gray,cmap='gray')\n"
   ]
  },
  {
   "cell_type": "code",
   "execution_count": null,
   "metadata": {},
   "outputs": [],
   "source": [
    "#Healthy Cells\n",
    "im = Image.open(\"Data/Kernels/C2_03_1_1_Bright Field_004.tif\");\n",
    "\n",
    "#imshow(np.asarray(im))\n",
    "im_array_gray = np.asarray(im,dtype=np.float32)\n",
    "#im_array_gray = rgb2gray(im_array);\n",
    "if invert_image:\n",
    "    im_array_gray = (np.abs(255.0-im_array_gray))\n",
    "\n",
    "im_array_gray_A549 = im_array_gray;\n",
    "\n",
    "\n",
    "im = Image.open(\"Data/Kernels/C2_04_1_1_Bright Field_008.tif\");\n",
    "im_array_gray = np.asarray(im,dtype=np.float32)\n",
    "#im_array_gray = rgb2gray(im_array);\n",
    "if invert_image:\n",
    "    im_array_gray = (np.abs(255.0-im_array_gray))\n",
    "im_array_gray_macrophage = im_array_gray;\n",
    "im_array_gray_dendritic = im_array_gray;\n",
    "    "
   ]
  },
  {
   "cell_type": "code",
   "execution_count": null,
   "metadata": {},
   "outputs": [],
   "source": [
    "# Unhealthy cells \n",
    "\n",
    "im = Image.open(\"Data/Kernels/Unhealthy_cell_kernels/C6_04_1_1_Bright Field_009.tif\");\n",
    "\n",
    "#imshow(np.asarray(im))\n",
    "im_array_gray = np.asarray(im,dtype=np.float32)\n",
    "#im_array_gray = rgb2gray(im_array);\n",
    "if invert_image:\n",
    "    im_array_gray = (np.abs(255.0-im_array_gray))\n",
    "\n",
    "im_array_gray_A549_UH = im_array_gray;\n",
    "\n",
    "\n",
    "im = Image.open(\"Data/Kernels/Unhealthy_cell_kernels/C6_04_1_1_Bright Field_009.tif\");\n",
    "im_array_gray = np.asarray(im,dtype=np.float32)\n",
    "#im_array_gray = rgb2gray(im_array);\n",
    "if invert_image:\n",
    "    im_array_gray = (np.abs(255.0-im_array_gray))\n",
    "im_array_gray_macrophage_UH = im_array_gray;\n",
    "im_array_gray_dendritic_UH = im_array_gray;\n",
    "    "
   ]
  },
  {
   "cell_type": "markdown",
   "metadata": {},
   "source": [
    "## Shaded Normal Kernel Extraction "
   ]
  },
  {
   "cell_type": "code",
   "execution_count": null,
   "metadata": {},
   "outputs": [],
   "source": [
    "#set_kernel=True;\n",
    "if set_kernel:\n",
    "    #sample_kernel = np.array(im_array_gray[275:325,750:820])  # single healthy feature\n",
    "\n",
    "    #sample_kernel = np.array(im_array_gray[340:370,320:350])  #pathogenecity feature \n",
    "    #sample_kernel = np.array(im_array_gray[190:235,590:630])  # single healthy feature\n",
    "\n",
    "    #sample_kernel = np.array(im_array_gray[240:360,700:820])  # multiple healthy feature\n",
    "    \n",
    "    #Define Healthy A549s\n",
    "    sample_kernel_healthy_A549 = np.array(im_array_gray_A549[75:180,350:410])\n",
    "    sample_kernel_healthy_A549 = (np.mean(sample_kernel_healthy_A549,axis=None)-sample_kernel_healthy_A549)/(np.mean(sample_kernel_healthy_A549,axis=None))\n",
    "    sample_kernel_healthy_A549[sample_kernel_healthy_A549<0.00] =0.0; \n",
    "    mask_sample_kernel_healthy_A549 = sample_kernel_healthy_A549;\n",
    "    \n",
    "    \n",
    "    #Define Healthy Dendritic\n",
    "    sample_kernel_healthy_dendritic = np.array(im_array_gray_dendritic[800:860,490:550]) #340:420,315:400\n",
    "    sample_kernel_healthy_dendritic = (np.mean(sample_kernel_healthy_dendritic,axis=None)-sample_kernel_healthy_dendritic)/(np.mean(sample_kernel_healthy_dendritic,axis=None))\n",
    "    sample_kernel_healthy_dendritic[sample_kernel_healthy_dendritic<0.00] =0.0; \n",
    "    mask_sample_kernel_healthy_dendritic = sample_kernel_healthy_dendritic;\n",
    "    \n",
    "    #Define Healthy Macrophages\n",
    "    sample_kernel_healthy_macrophage = np.array(im_array_gray_macrophage[120:220,620:690])\n",
    "    sample_kernel_healthy_macrophage = (np.mean(sample_kernel_healthy_macrophage,axis=None)-sample_kernel_healthy_macrophage)/(np.mean(sample_kernel_healthy_macrophage,axis=None))\n",
    "    sample_kernel_healthy_macrophage[sample_kernel_healthy_macrophage<0.00] =0.0; \n",
    "    mask_sample_kernel_healthy_macrophage = sample_kernel_healthy_macrophage;\n",
    "\n",
    "    \n",
    "    #sample_kernel = (np.mean(sample_kernel,axis=None)-sample_kernel)/(np.mean(sample_kernel,axis=None))\n",
    "    \n",
    "    "
   ]
  },
  {
   "cell_type": "code",
   "execution_count": null,
   "metadata": {},
   "outputs": [],
   "source": [
    "#Unhealthy cells\n",
    "if set_kernel:\n",
    "    sample_kernel_unhealthy_A549 = np.array(im_array_gray_A549_UH[380:460,455:545])\n",
    "    sample_kernel_unhealthy_A549 = (np.mean(sample_kernel_unhealthy_A549,axis=None)-sample_kernel_unhealthy_A549)/(np.mean(sample_kernel_unhealthy_A549,axis=None))\n",
    "    sample_kernel_unhealthy_A549[sample_kernel_unhealthy_A549<0.00] =0.0; \n",
    "    mask_sample_kernel_unhealthy_A549 = sample_kernel_unhealthy_A549;\n",
    "    \n",
    "    #Define unHealthy Dendritic\n",
    "    sample_kernel_unhealthy_dendritic = np.array(im_array_gray_dendritic_UH[770:870,600:690]) #340:420,315:400\n",
    "    sample_kernel_unhealthy_dendritic = (np.mean(sample_kernel_unhealthy_dendritic,axis=None)-sample_kernel_unhealthy_dendritic)/(np.mean(sample_kernel_unhealthy_dendritic,axis=None))\n",
    "    sample_kernel_unhealthy_dendritic[sample_kernel_unhealthy_dendritic<0.00] =0.0; \n",
    "    mask_sample_kernel_unhealthy_dendritic = sample_kernel_unhealthy_dendritic;\n",
    "    \n",
    "    #Define unHealthy Macrophages\n",
    "    sample_kernel_unhealthy_macrophage = np.array(im_array_gray_macrophage_UH[570:630,75:125])\n",
    "    sample_kernel_unhealthy_macrophage = (np.mean(sample_kernel_unhealthy_macrophage,axis=None)-sample_kernel_unhealthy_macrophage)/(np.mean(sample_kernel_unhealthy_macrophage,axis=None))\n",
    "    sample_kernel_unhealthy_macrophage[sample_kernel_unhealthy_macrophage<0.00] =0.0; \n",
    "    mask_sample_kernel_unhealthy_macrophage = sample_kernel_unhealthy_macrophage;\n",
    "\n"
   ]
  },
  {
   "cell_type": "code",
   "execution_count": null,
   "metadata": {},
   "outputs": [],
   "source": [
    "plt.figure()\n",
    "imshow(np.abs(sample_kernel_healthy_A549),cmap='gray')\n",
    "plt.title('Healthy A549 Kernel')\n",
    "plt.figure()\n",
    "imshow(np.abs(sample_kernel_healthy_dendritic),cmap='gray')\n",
    "plt.title('Healthy Dendritic')\n",
    "plt.figure()\n",
    "imshow(np.abs(sample_kernel_healthy_macrophage),cmap='gray')\n",
    "plt.title('Healthy Macrophage')\n",
    "\n",
    "\n",
    "cbar = plt.colorbar()\n",
    "ax = plt.gca()\n",
    "ax.set_xticklabels({})\n",
    "ax.set_yticklabels({})\n",
    "cbar.ax.tick_params(labelsize=20) "
   ]
  },
  {
   "cell_type": "code",
   "execution_count": null,
   "metadata": {
    "scrolled": true
   },
   "outputs": [],
   "source": [
    "#Unhealthy cells plots\n",
    "plt.figure()\n",
    "imshow(np.abs(sample_kernel_unhealthy_A549),cmap='gray')\n",
    "plt.title('Unhealthy A549 Kernel')\n",
    "plt.figure()\n",
    "imshow(np.abs(sample_kernel_unhealthy_dendritic),cmap='gray')\n",
    "plt.title('Unhealthy Dendritic')\n",
    "plt.figure()\n",
    "imshow(np.abs(sample_kernel_unhealthy_macrophage),cmap='gray')\n",
    "plt.title('Unhealthy Macrophage')\n",
    "\n",
    "\n",
    "cbar = plt.colorbar()\n",
    "ax = plt.gca()\n",
    "ax.set_xticklabels({})\n",
    "ax.set_yticklabels({})\n",
    "cbar.ax.tick_params(labelsize=20) "
   ]
  },
  {
   "cell_type": "markdown",
   "metadata": {},
   "source": [
    "### Load Image Files to Analyze "
   ]
  },
  {
   "cell_type": "code",
   "execution_count": null,
   "metadata": {},
   "outputs": [],
   "source": []
  },
  {
   "cell_type": "code",
   "execution_count": null,
   "metadata": {},
   "outputs": [],
   "source": [
    "list_of_kernels = [mask_sample_kernel_healthy_A549,mask_sample_kernel_healthy_dendritic,mask_sample_kernel_healthy_macrophage,mask_sample_kernel_unhealthy_A549,mask_sample_kernel_unhealthy_dendritic,mask_sample_kernel_unhealthy_macrophage]\n",
    "list_of_alphas = [3.75,13.0,5.1,8.5,8.2,11.25]\n",
    "list_of_colors = ['g','b','c','r','m','y']\n",
    "\n",
    "## Generate family of kernels: \n",
    "list_kernel_families = [];\n",
    "for sample_kernel_ind in range(0,len(list_of_kernels)):\n",
    "    mask_sample_kernel = list_of_kernels[sample_kernel_ind];\n",
    "    base_angle = 0;\n",
    "    kernel_family = [];\n",
    "    for delta in range(base_angle,360,10):\n",
    "        this_family_kernel_img= Image.fromarray(np.uint8(mask_sample_kernel * 255) ).rotate(angle=base_angle+delta)\n",
    "        rotated_kernel = np.array(this_family_kernel_img,dtype=np.float32)/255.0\n",
    "        kernel_family.append(rotated_kernel);\n",
    "    list_kernel_families.append(kernel_family);    \n"
   ]
  },
  {
   "cell_type": "code",
   "execution_count": null,
   "metadata": {
    "scrolled": true
   },
   "outputs": [],
   "source": [
    "for kernel_family in list_kernel_families:\n",
    "    \n",
    "    figs,list_of_ax = plt.subplots(1,len(kernel_family))\n",
    "    figs.set_size_inches((30,15))\n",
    "    for ind in range(0,len(list_of_ax)):\n",
    "        this_ax = list_of_ax[ind];\n",
    "        plt.sca(this_ax)\n",
    "        plt.imshow(kernel_family[ind],cmap='gray')\n",
    "    #plt.show()\n"
   ]
  },
  {
   "cell_type": "code",
   "execution_count": null,
   "metadata": {},
   "outputs": [],
   "source": [
    "figs.get_size_inches()"
   ]
  },
  {
   "cell_type": "code",
   "execution_count": null,
   "metadata": {
    "scrolled": false
   },
   "outputs": [],
   "source": [
    "invert_image = False\n",
    "for time_index in range(1,9):\n",
    "    \n",
    "    filename_in = \"Data/May172019Run/C2_04_1_1_Bright Field_00\" + repr(time_index)+\".tif\";\n",
    "    filename_out = \"DataProcessed/May172019Run/C2_04_1_1_Bright Field_00\" + repr(time_index)+\".tif\"\n",
    "    im = Image.open(filename_in);\n",
    "    im_array_gray = np.asarray(im,dtype=np.float32)\n",
    "    if invert_image:\n",
    "        im_array_gray = (np.abs(255.0-im_array_gray))\n",
    "\n",
    "    ### Feature Extraction\n",
    "\n",
    "\n",
    "    this_fig = plt.figure(figsize=(35,23));\n",
    "    imshow(im_array_gray,cmap='gray')\n",
    "    for sample_kernel_ind in range(0,len(list_of_kernels)):\n",
    "        mask_sample_kernel = list_of_kernels[sample_kernel_ind];\n",
    "        norm_alpha = list_of_alphas[sample_kernel_ind];\n",
    "        this_color = list_of_colors[sample_kernel_ind];\n",
    "        this_kernel_family = list_kernel_families[sample_kernel_ind];\n",
    "        num_rows = im_array_gray.shape[0];\n",
    "        num_cols = im_array_gray.shape[1];\n",
    "        mask_rows = mask_sample_kernel.shape[0]\n",
    "        mask_cols = mask_sample_kernel.shape[1];\n",
    "        import matplotlib.patches as patches\n",
    "\n",
    "        all_norms = [];\n",
    "        all_rotated_norms = [];\n",
    "        all_rects = [];\n",
    "        Raw_Subimage_Count = 0;\n",
    "        for row_ind in np.arange(0,num_rows-mask_rows-50,10):\n",
    "            for col_ind in np.arange(mask_cols,num_cols-mask_cols,10):\n",
    "                Raw_Subimage = np.array(im_array_gray[row_ind:row_ind+mask_rows,col_ind:col_ind+mask_cols]);\n",
    "                Raw_Subimage = (np.mean(Raw_Subimage,axis=None)-Raw_Subimage)/(np.mean(Raw_Subimage,axis=None))\n",
    "                Raw_Subimage[Raw_Subimage<0.0]=0.0;\n",
    "\n",
    "                #Family of Kernel Processing Layer\n",
    "                base_angle = 0;\n",
    "                rotated_norms = [];\n",
    "                for rotated_kernel in this_kernel_family:\n",
    "                    #this_family_kernel_img= Image.fromarray(np.uint8(mask_sample_kernel * 255) ).rotate(angle=base_angle+delta)\n",
    "                    #rotated_kernel = np.array(this_family_kernel_img,dtype=np.float32)/255.0        \n",
    "                    temp_filtered_image = np.array(Raw_Subimage);\n",
    "                    temp_filtered_image[rotated_kernel==0.0]=0.0;\n",
    "                    this_norm = np.linalg.norm(rotated_kernel-temp_filtered_image,'fro')\n",
    "                    rotated_norms.append(1e4*this_norm/(rotated_kernel.shape[0]*rotated_kernel.shape[1]));\n",
    "                all_rotated_norms.append(rotated_norms);\n",
    "\n",
    "                all_norms.append(np.min(rotated_norms));#[this_norm,col_ind,row_ind]);\n",
    "\n",
    "                if norm_alpha>np.min(rotated_norms):#0.06<this_norm:                       \n",
    "                    this_rect = patches.Rectangle((col_ind,row_ind),mask_cols,mask_rows,linewidth=3,edgecolor=this_color,facecolor='none',alpha=0.4);\n",
    "                    all_rects.append(this_rect);\n",
    "                    #plt.savefig('/Users/yeun666/Documents/FoFProcessedImages/Movies/Mar19/SubImage_' + repr(Raw_Subimage_Count) + '.jpg',dpi=500,format='jpeg')\n",
    "\n",
    "                #Raw_Subimage_Count +=1;     \n",
    "        ax = this_fig.gca()\n",
    "        for rect in all_rects:\n",
    "            ax.add_patch(rect)\n",
    "        \n",
    "        plt.figure()\n",
    "        plt.hist(all_norms,bins=200);\n",
    "\n",
    "        ax = plt.gca()\n",
    "\n",
    "        ax.spines['right'].set_visible(False)\n",
    "        ax.spines['top'].set_visible(False)\n",
    "\n",
    "        # Only show ticks on the left and bottom spines\n",
    "        ax.yaxis.set_ticks_position('left')\n",
    "        ax.xaxis.set_ticks_position('bottom')\n",
    "        plt.ylabel('Frequency/Count',size=20)\n",
    "        plt.xlabel('Frobenius Norm of Convolution w/ P-Feature ',size=20)\n",
    "        \n",
    "    \n",
    "        \n",
    "    plt.show()    \n",
    "    plt.tight_layout()\n",
    "    this_fig.savefig(filename_out);\n",
    "\n"
   ]
  },
  {
   "cell_type": "code",
   "execution_count": null,
   "metadata": {},
   "outputs": [],
   "source": [
    "fig = plt.gcf()"
   ]
  },
  {
   "cell_type": "code",
   "execution_count": null,
   "metadata": {},
   "outputs": [],
   "source": [
    "fig.savefig()"
   ]
  },
  {
   "cell_type": "code",
   "execution_count": null,
   "metadata": {},
   "outputs": [],
   "source": []
  }
 ],
 "metadata": {
  "kernelspec": {
   "display_name": "Python 3",
   "language": "python",
   "name": "python3"
  },
  "language_info": {
   "codemirror_mode": {
    "name": "ipython",
    "version": 3
   },
   "file_extension": ".py",
   "mimetype": "text/x-python",
   "name": "python",
   "nbconvert_exporter": "python",
   "pygments_lexer": "ipython3",
   "version": "3.7.3"
  }
 },
 "nbformat": 4,
 "nbformat_minor": 1
}

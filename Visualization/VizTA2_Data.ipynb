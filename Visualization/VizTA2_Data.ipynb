{
 "cells": [
  {
   "cell_type": "code",
   "execution_count": 2,
   "metadata": {},
   "outputs": [],
   "source": [
    "import cv2\n",
    "import numpy as np\n",
    "import os "
   ]
  },
  {
   "cell_type": "code",
   "execution_count": 6,
   "metadata": {},
   "outputs": [],
   "source": [
    "#RootDir = '/Users/eyeung/Box/PNNL Friend or Foe Upload/20200611 A-549 P1 IV_V Pathogen NegCon #01-02/20200611 A-549 P1 IV_V Pathogen NegCon #01-02';\n",
    "RootDir = '/Users/eyeung/Box/PNNL Friend or Foe Upload/20200611 A-549 P2 IV_V Pathogen #03-05/20200611 A-549 P2 IV_V Pathogen #03-05';\n",
    "All_files = os.listdir(RootDir);\n",
    "ThisExpID = RootDir.split('/')[-1];\n",
    "\n",
    "OutputDir = '/Users/eyeung/Box/DARPAFoF UCSB Team Share/Viz_Replicate_Movies/' \n"
   ]
  },
  {
   "cell_type": "code",
   "execution_count": 7,
   "metadata": {},
   "outputs": [],
   "source": [
    "for Row_id in ['E','F','G','H']:\n",
    "    for Col_id in [repr(Elem) for Elem in range(1,13)]:\n",
    "        This_well_file_list = [Elem for Elem in All_files if Row_id+Col_id == Elem.split('_')[0] ]\n",
    "        This_WFL_TimeFiltered = [Elem for Elem in This_well_file_list if 1<np.int(Elem.split('_')[-1].strip('.tif'))<90];\n",
    "        All_Images = [];\n",
    "        for This_File in This_WFL_TimeFiltered:\n",
    "            All_Images.append(cv2.imread(RootDir+'/'  +This_File));\n",
    "        \n",
    "        Height,Width,Layers=All_Images[1].shape\n",
    "        if not os.path.exists(OutputDir+ThisExpID):\n",
    "            os.mkdir(OutputDir+ThisExpID)\n",
    "        fourcc = cv2.VideoWriter_fourcc('M','J','P','G')\n",
    "        Video_Writer=cv2.VideoWriter(OutputDir + ThisExpID + '/'+ Row_id+Col_id + '.avi',fourcc,1,(Width,Height))\n",
    "        #Video_Writer=cv2.VideoWriter('Test.avi',fourcc,1,(Width,Height))\n",
    "        for This_Image in All_Images:\n",
    "            Video_Writer.write(This_Image)\n",
    "\n",
    "        cv2.destroyAllWindows()\n",
    "        Video_Writer.release()"
   ]
  },
  {
   "cell_type": "code",
   "execution_count": null,
   "metadata": {},
   "outputs": [],
   "source": [
    "This_well_file_list"
   ]
  },
  {
   "cell_type": "code",
   "execution_count": null,
   "metadata": {},
   "outputs": [],
   "source": []
  }
 ],
 "metadata": {
  "kernelspec": {
   "display_name": "Python 3",
   "language": "python",
   "name": "python3"
  },
  "language_info": {
   "codemirror_mode": {
    "name": "ipython",
    "version": 3
   },
   "file_extension": ".py",
   "mimetype": "text/x-python",
   "name": "python",
   "nbconvert_exporter": "python",
   "pygments_lexer": "ipython3",
   "version": "3.9.1"
  }
 },
 "nbformat": 4,
 "nbformat_minor": 2
}
